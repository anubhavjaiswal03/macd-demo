{
 "cells": [
  {
   "cell_type": "code",
   "execution_count": 1,
   "id": "dab6a187",
   "metadata": {},
   "outputs": [],
   "source": [
    "import pandas as pd \n",
    "import numpy as np"
   ]
  },
  {
   "cell_type": "code",
   "execution_count": 2,
   "id": "a6d3aad2",
   "metadata": {},
   "outputs": [
    {
     "data": {
      "text/html": [
       "<div>\n",
       "<style scoped>\n",
       "    .dataframe tbody tr th:only-of-type {\n",
       "        vertical-align: middle;\n",
       "    }\n",
       "\n",
       "    .dataframe tbody tr th {\n",
       "        vertical-align: top;\n",
       "    }\n",
       "\n",
       "    .dataframe thead th {\n",
       "        text-align: right;\n",
       "    }\n",
       "</style>\n",
       "<table border=\"1\" class=\"dataframe\">\n",
       "  <thead>\n",
       "    <tr style=\"text-align: right;\">\n",
       "      <th></th>\n",
       "      <th>Date</th>\n",
       "      <th>Open</th>\n",
       "      <th>High</th>\n",
       "      <th>Low</th>\n",
       "      <th>Close</th>\n",
       "      <th>Volume</th>\n",
       "      <th>Ex-Dividend</th>\n",
       "      <th>Split Ratio</th>\n",
       "      <th>Adj. Open</th>\n",
       "      <th>Adj. High</th>\n",
       "      <th>Adj. Low</th>\n",
       "      <th>Adj. Close</th>\n",
       "      <th>Adj. Volume</th>\n",
       "    </tr>\n",
       "  </thead>\n",
       "  <tbody>\n",
       "    <tr>\n",
       "      <th>0</th>\n",
       "      <td>2007-12-03</td>\n",
       "      <td>181.86</td>\n",
       "      <td>184.14</td>\n",
       "      <td>177.70</td>\n",
       "      <td>178.8600</td>\n",
       "      <td>34338200.0</td>\n",
       "      <td>0.0</td>\n",
       "      <td>1.0</td>\n",
       "      <td>23.371545</td>\n",
       "      <td>23.664556</td>\n",
       "      <td>22.836927</td>\n",
       "      <td>22.986003</td>\n",
       "      <td>240367400.0</td>\n",
       "    </tr>\n",
       "    <tr>\n",
       "      <th>1</th>\n",
       "      <td>2007-12-04</td>\n",
       "      <td>177.15</td>\n",
       "      <td>180.90</td>\n",
       "      <td>176.99</td>\n",
       "      <td>179.8100</td>\n",
       "      <td>27635700.0</td>\n",
       "      <td>0.0</td>\n",
       "      <td>1.0</td>\n",
       "      <td>22.766244</td>\n",
       "      <td>23.248171</td>\n",
       "      <td>22.745682</td>\n",
       "      <td>23.108091</td>\n",
       "      <td>193449900.0</td>\n",
       "    </tr>\n",
       "    <tr>\n",
       "      <th>2</th>\n",
       "      <td>2007-12-05</td>\n",
       "      <td>182.89</td>\n",
       "      <td>186.00</td>\n",
       "      <td>182.41</td>\n",
       "      <td>185.5000</td>\n",
       "      <td>31871500.0</td>\n",
       "      <td>0.0</td>\n",
       "      <td>1.0</td>\n",
       "      <td>23.503914</td>\n",
       "      <td>23.903592</td>\n",
       "      <td>23.442227</td>\n",
       "      <td>23.839335</td>\n",
       "      <td>223100500.0</td>\n",
       "    </tr>\n",
       "    <tr>\n",
       "      <th>3</th>\n",
       "      <td>2007-12-06</td>\n",
       "      <td>186.19</td>\n",
       "      <td>190.10</td>\n",
       "      <td>186.12</td>\n",
       "      <td>189.9528</td>\n",
       "      <td>32136100.0</td>\n",
       "      <td>0.0</td>\n",
       "      <td>1.0</td>\n",
       "      <td>23.928010</td>\n",
       "      <td>24.430500</td>\n",
       "      <td>23.919014</td>\n",
       "      <td>24.411582</td>\n",
       "      <td>224952700.0</td>\n",
       "    </tr>\n",
       "    <tr>\n",
       "      <th>4</th>\n",
       "      <td>2007-12-07</td>\n",
       "      <td>190.54</td>\n",
       "      <td>194.99</td>\n",
       "      <td>188.04</td>\n",
       "      <td>194.3000</td>\n",
       "      <td>38073800.0</td>\n",
       "      <td>0.0</td>\n",
       "      <td>1.0</td>\n",
       "      <td>24.487046</td>\n",
       "      <td>25.058933</td>\n",
       "      <td>24.165761</td>\n",
       "      <td>24.970258</td>\n",
       "      <td>266516600.0</td>\n",
       "    </tr>\n",
       "    <tr>\n",
       "      <th>5</th>\n",
       "      <td>2007-12-10</td>\n",
       "      <td>193.59</td>\n",
       "      <td>195.66</td>\n",
       "      <td>192.69</td>\n",
       "      <td>194.2100</td>\n",
       "      <td>25799200.0</td>\n",
       "      <td>0.0</td>\n",
       "      <td>1.0</td>\n",
       "      <td>24.879013</td>\n",
       "      <td>25.145037</td>\n",
       "      <td>24.763351</td>\n",
       "      <td>24.958692</td>\n",
       "      <td>180594400.0</td>\n",
       "    </tr>\n",
       "    <tr>\n",
       "      <th>6</th>\n",
       "      <td>2007-12-11</td>\n",
       "      <td>194.75</td>\n",
       "      <td>196.83</td>\n",
       "      <td>187.39</td>\n",
       "      <td>188.5404</td>\n",
       "      <td>39675900.0</td>\n",
       "      <td>0.0</td>\n",
       "      <td>1.0</td>\n",
       "      <td>25.028089</td>\n",
       "      <td>25.295398</td>\n",
       "      <td>24.082227</td>\n",
       "      <td>24.230069</td>\n",
       "      <td>277731300.0</td>\n",
       "    </tr>\n",
       "    <tr>\n",
       "      <th>7</th>\n",
       "      <td>2007-12-12</td>\n",
       "      <td>193.44</td>\n",
       "      <td>194.48</td>\n",
       "      <td>185.76</td>\n",
       "      <td>190.8600</td>\n",
       "      <td>43773600.0</td>\n",
       "      <td>0.0</td>\n",
       "      <td>1.0</td>\n",
       "      <td>24.859736</td>\n",
       "      <td>24.993391</td>\n",
       "      <td>23.872749</td>\n",
       "      <td>24.528170</td>\n",
       "      <td>306415200.0</td>\n",
       "    </tr>\n",
       "    <tr>\n",
       "      <th>8</th>\n",
       "      <td>2007-12-13</td>\n",
       "      <td>190.19</td>\n",
       "      <td>192.12</td>\n",
       "      <td>187.82</td>\n",
       "      <td>191.8300</td>\n",
       "      <td>30879200.0</td>\n",
       "      <td>0.0</td>\n",
       "      <td>1.0</td>\n",
       "      <td>24.442066</td>\n",
       "      <td>24.690098</td>\n",
       "      <td>24.137488</td>\n",
       "      <td>24.652829</td>\n",
       "      <td>216154400.0</td>\n",
       "    </tr>\n",
       "    <tr>\n",
       "      <th>9</th>\n",
       "      <td>2007-12-14</td>\n",
       "      <td>190.37</td>\n",
       "      <td>200.00</td>\n",
       "      <td>189.54</td>\n",
       "      <td>190.3900</td>\n",
       "      <td>24082600.0</td>\n",
       "      <td>0.0</td>\n",
       "      <td>1.0</td>\n",
       "      <td>24.465198</td>\n",
       "      <td>25.702788</td>\n",
       "      <td>24.358532</td>\n",
       "      <td>24.467769</td>\n",
       "      <td>168578200.0</td>\n",
       "    </tr>\n",
       "  </tbody>\n",
       "</table>\n",
       "</div>"
      ],
      "text/plain": [
       "         Date    Open    High     Low     Close      Volume  Ex-Dividend  \\\n",
       "0  2007-12-03  181.86  184.14  177.70  178.8600  34338200.0          0.0   \n",
       "1  2007-12-04  177.15  180.90  176.99  179.8100  27635700.0          0.0   \n",
       "2  2007-12-05  182.89  186.00  182.41  185.5000  31871500.0          0.0   \n",
       "3  2007-12-06  186.19  190.10  186.12  189.9528  32136100.0          0.0   \n",
       "4  2007-12-07  190.54  194.99  188.04  194.3000  38073800.0          0.0   \n",
       "5  2007-12-10  193.59  195.66  192.69  194.2100  25799200.0          0.0   \n",
       "6  2007-12-11  194.75  196.83  187.39  188.5404  39675900.0          0.0   \n",
       "7  2007-12-12  193.44  194.48  185.76  190.8600  43773600.0          0.0   \n",
       "8  2007-12-13  190.19  192.12  187.82  191.8300  30879200.0          0.0   \n",
       "9  2007-12-14  190.37  200.00  189.54  190.3900  24082600.0          0.0   \n",
       "\n",
       "   Split Ratio  Adj. Open  Adj. High   Adj. Low  Adj. Close  Adj. Volume  \n",
       "0          1.0  23.371545  23.664556  22.836927   22.986003  240367400.0  \n",
       "1          1.0  22.766244  23.248171  22.745682   23.108091  193449900.0  \n",
       "2          1.0  23.503914  23.903592  23.442227   23.839335  223100500.0  \n",
       "3          1.0  23.928010  24.430500  23.919014   24.411582  224952700.0  \n",
       "4          1.0  24.487046  25.058933  24.165761   24.970258  266516600.0  \n",
       "5          1.0  24.879013  25.145037  24.763351   24.958692  180594400.0  \n",
       "6          1.0  25.028089  25.295398  24.082227   24.230069  277731300.0  \n",
       "7          1.0  24.859736  24.993391  23.872749   24.528170  306415200.0  \n",
       "8          1.0  24.442066  24.690098  24.137488   24.652829  216154400.0  \n",
       "9          1.0  24.465198  25.702788  24.358532   24.467769  168578200.0  "
      ]
     },
     "execution_count": 2,
     "metadata": {},
     "output_type": "execute_result"
    }
   ],
   "source": [
    "data = pd.read_csv(\"data/AAPL.csv\", header = 0)\n",
    "data.head(10)"
   ]
  },
  {
   "cell_type": "code",
   "execution_count": 3,
   "id": "88cc5f48",
   "metadata": {},
   "outputs": [
    {
     "data": {
      "text/plain": [
       "pandas.core.frame.DataFrame"
      ]
     },
     "execution_count": 3,
     "metadata": {},
     "output_type": "execute_result"
    }
   ],
   "source": [
    "type(data)"
   ]
  },
  {
   "cell_type": "code",
   "execution_count": 6,
   "id": "9f6be6f3",
   "metadata": {},
   "outputs": [
    {
     "data": {
      "text/plain": [
       "<AxesSubplot:>"
      ]
     },
     "execution_count": 6,
     "metadata": {},
     "output_type": "execute_result"
    },
    {
     "data": {
      "image/png": "[encoded data removed]",
      "text/plain": [
       "<Figure size 432x288 with 1 Axes>"
      ]
     },
     "metadata": {
      "needs_background": "light"
     },
     "output_type": "display_data"
    }
   ],
   "source": [
    "data[['Open']].plot()"
   ]
  },
  {
   "cell_type": "code",
   "execution_count": 9,
   "id": "16008044",
   "metadata": {},
   "outputs": [
    {
     "data": {
      "text/plain": [
       "Date           datetime64[ns]\n",
       "Open                  float64\n",
       "High                  float64\n",
       "Low                   float64\n",
       "Close                 float64\n",
       "Volume                float64\n",
       "Ex-Dividend           float64\n",
       "Split Ratio           float64\n",
       "Adj. Open             float64\n",
       "Adj. High             float64\n",
       "Adj. Low              float64\n",
       "Adj. Close            float64\n",
       "Adj. Volume           float64\n",
       "dtype: object"
      ]
     },
     "execution_count": 9,
     "metadata": {},
     "output_type": "execute_result"
    }
   ],
   "source": [
    "data.dtypes"
   ]
  },
  {
   "cell_type": "code",
   "execution_count": 8,
   "id": "312d7fa7",
   "metadata": {},
   "outputs": [],
   "source": [
    "data[\"Date\"]=pd.to_datetime(data[\"Date\"])"
   ]
  },
  {
   "cell_type": "code",
   "execution_count": 11,
   "id": "d769ab13",
   "metadata": {},
   "outputs": [],
   "source": [
    "data=data.set_index(\"Date\")"
   ]
  },
  {
   "cell_type": "code",
   "execution_count": 22,
   "id": "7d2bee75",
   "metadata": {},
   "outputs": [
    {
     "data": {
      "text/plain": [
       "<AxesSubplot:xlabel='Date'>"
      ]
     },
     "execution_count": 22,
     "metadata": {},
     "output_type": "execute_result"
    },
    {
     "data": {
      "image/png": "[encoded data removed]",
      "text/plain": [
       "<Figure size 432x288 with 1 Axes>"
      ]
     },
     "metadata": {
      "needs_background": "light"
     },
     "output_type": "display_data"
    }
   ],
   "source": [
    "data[[\"Open\",\"High\",\"Low\",\"Volume\"]].plot()"
   ]
  },
  {
   "cell_type": "code",
   "execution_count": null,
   "id": "e4e33978",
   "metadata": {},
   "outputs": [],
   "source": []
  }
 ],
 "metadata": {
  "kernelspec": {
   "display_name": "Python 3 (ipykernel)",
   "language": "python",
   "name": "python3"
  },
  "language_info": {
   "codemirror_mode": {
    "name": "ipython",
    "version": 3
   },
   "file_extension": ".py",
   "mimetype": "text/x-python",
   "name": "python",
   "nbconvert_exporter": "python",
   "pygments_lexer": "ipython3",
   "version": "3.10.0"
  }
 },
 "nbformat": 4,
 "nbformat_minor": 5
}
